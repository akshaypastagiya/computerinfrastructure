{
 "cells": [
  {
   "cell_type": "markdown",
   "id": "cddf27ce",
   "metadata": {},
   "source": [
    "# yFinance\n",
    "#### Using the yfinance Python package, write a function called get_data() that downloads all hourly data for the previous five days for the five FAANG stocks:\n",
    "#### Facebook (META)\n",
    "#### Apple (AAPL)\n",
    "#### Amazon (AMZN)\n",
    "#### Netflix (NFLX)\n",
    "#### Google (GOOG)\n",
    "#### The function should save the data into a folder called data in the root of your repository using a filename with the format YYYYMMDD-HHmmss.csv where YYYYMMDD is the four-digit year (e.g. 2025), followed by the two-digit month (e.g. 09 for September), followed by the two digit day, and HHmmss is hour, minutes, seconds. Create the data folder if you don't already have one.\n",
    "\n",
    "#### Get data from yahoo finance refer document\n",
    "https://github.com/ranaroussi/yfinance\n",
    "\n",
    "#### Get current date and tile refer document\n",
    "https://docs.python.org/3/library/datetime.html\n",
    "\n",
    "#### write data in to csv using pands refer document\n",
    "https://pandas.pydata.org/docs/reference/api/pandas.DataFrame.to_csv.html"
   ]
  },
  {
   "cell_type": "code",
   "execution_count": 54,
   "id": "8f31de85",
   "metadata": {},
   "outputs": [],
   "source": [
    "# Yahoo Finance data.\n",
    "import yfinance as yf\n",
    "import pandas as pd\n",
    "from datetime import datetime,timezone\n"
   ]
  },
  {
   "cell_type": "code",
   "execution_count": 55,
   "id": "2e9e6542",
   "metadata": {},
   "outputs": [
    {
     "name": "stderr",
     "output_type": "stream",
     "text": [
      "/tmp/ipykernel_5985/1102147738.py:2: FutureWarning: YF.download() has changed argument auto_adjust default to True\n",
      "  df = yf.download(['META', 'AAPL', 'AMZN', 'NFLX', 'GOOG'], period='5d', interval='1h')\n",
      "[*********************100%***********************]  5 of 5 completed\n"
     ]
    }
   ],
   "source": [
    "# Get Data from Yahoo Finance \n",
    "df = yf.download(['META', 'AAPL', 'AMZN', 'NFLX', 'GOOG'], period='5d', interval='1h')"
   ]
  },
  {
   "cell_type": "code",
   "execution_count": 56,
   "id": "1e301e64",
   "metadata": {},
   "outputs": [],
   "source": [
    "# get file name to save data in to csv\n",
    "todaydate = date.today().strftime(\"%Y%m%d\")\n",
    "currenttime = datetime.now(timezone.utc).strftime(\"%H%M%S\")\n",
    "filename = f\"{todaydate}-{currenttime}.csv\""
   ]
  },
  {
   "cell_type": "code",
   "execution_count": 57,
   "id": "ca50e945",
   "metadata": {},
   "outputs": [],
   "source": [
    "# write data to csv file in data folder\n",
    "df.to_csv(f\"./data/{filename}\")"
   ]
  },
  {
   "cell_type": "markdown",
   "id": "ea4ba9b8",
   "metadata": {},
   "source": [
    "# End"
   ]
  }
 ],
 "metadata": {
  "kernelspec": {
   "display_name": "Python 3",
   "language": "python",
   "name": "python3"
  },
  "language_info": {
   "codemirror_mode": {
    "name": "ipython",
    "version": 3
   },
   "file_extension": ".py",
   "mimetype": "text/x-python",
   "name": "python",
   "nbconvert_exporter": "python",
   "pygments_lexer": "ipython3",
   "version": "3.12.1"
  }
 },
 "nbformat": 4,
 "nbformat_minor": 5
}
